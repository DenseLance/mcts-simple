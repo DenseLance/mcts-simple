{
 "cells": [
  {
   "cell_type": "markdown",
   "metadata": {},
   "source": [
    "## Step 1\n",
    "Create and initialise game class."
   ]
  },
  {
   "cell_type": "code",
   "execution_count": 1,
   "metadata": {},
   "outputs": [],
   "source": [
    "from mcts_simple import *\n",
    "\n",
    "class TicTacToe(Game):\n",
    "    def __init__(self):\n",
    "        self.board = [[\" \" for _ in range(3)] for _ in range(3)]\n",
    "        self.players = [\"X\", \"O\"]\n",
    "\n",
    "    def render(self):\n",
    "        board = \"\"\n",
    "        board += \"|\".join(self.board[0]) + \"\\n\"\n",
    "        board += \"-----\\n\"\n",
    "        board += \"|\".join(self.board[1]) + \"\\n\"\n",
    "        board += \"-----\\n\"\n",
    "        board += \"|\".join(self.board[2]) + \"\\n\"\n",
    "        print(board)\n",
    "        \n",
    "    def get_state(self):\n",
    "        return [(self.board[row][col] == self.players[0]) - (self.board[row][col] == self.players[1]) for row in range(len(self.board)) for col in range(len(self.board[row]))]\n",
    "\n",
    "    def number_of_players(self):\n",
    "        return len(self.players)\n",
    "    \n",
    "    def current_player(self):\n",
    "        return int(self.players[0] == \"X\")\n",
    "    \n",
    "    def possible_actions(self):\n",
    "        return [row * 3 + col for row in range(len(self.board)) for col in range(len(self.board[row])) if self.board[row][col] == \" \"]\n",
    "    \n",
    "    def take_action(self, action):\n",
    "        self.board[action // 3][action % 3] = self.players[0]\n",
    "        self.players.append(self.players.pop(0))\n",
    "    \n",
    "    def has_outcome(self):\n",
    "        result = False\n",
    "        # check horizontal\n",
    "        result |= self.board[0][0] == self.board[0][1] and self.board[0][0] == self.board[0][2] and self.board[0][0] != \" \"\n",
    "        result |= self.board[1][0] == self.board[1][1] and self.board[1][0] == self.board[1][2] and self.board[1][0] != \" \"\n",
    "        result |= self.board[2][0] == self.board[2][1] and self.board[2][0] == self.board[2][2] and self.board[2][0] != \" \"\n",
    "        # check vertical\n",
    "        result |= self.board[0][0] == self.board[1][0] and self.board[0][0] == self.board[2][0] and self.board[0][0] != \" \"\n",
    "        result |= self.board[0][1] == self.board[1][1] and self.board[0][1] == self.board[2][1] and self.board[0][1] != \" \"\n",
    "        result |= self.board[0][2] == self.board[1][2] and self.board[0][2] == self.board[2][2] and self.board[0][2] != \" \"\n",
    "        # check diagonal\n",
    "        result |= self.board[0][0] == self.board[1][1] and self.board[0][0] == self.board[2][2] and self.board[0][0] != \" \"\n",
    "        result |= self.board[0][2] == self.board[1][1] and self.board[0][2] == self.board[2][0] and self.board[0][2] != \" \"\n",
    "        return result or not any(\" \" in space for space in self.board)\n",
    "\n",
    "    def winner(self):\n",
    "        winners = []\n",
    "        # check horizontal\n",
    "        winners += [self.board[0][0] == \"X\"] if self.board[0][0] == self.board[0][1] and self.board[0][0] == self.board[0][2] and self.board[0][0] != \" \" else []\n",
    "        winners += [self.board[1][0] == \"X\"] if self.board[1][0] == self.board[1][1] and self.board[1][0] == self.board[1][2] and self.board[1][0] != \" \" else []\n",
    "        winners += [self.board[2][0] == \"X\"] if self.board[2][0] == self.board[2][1] and self.board[2][0] == self.board[2][2] and self.board[2][0] != \" \" else []\n",
    "        # check vertical\n",
    "        winners += [self.board[0][0] == \"X\"] if self.board[0][0] == self.board[1][0] and self.board[0][0] == self.board[2][0] and self.board[0][0] != \" \" else []\n",
    "        winners += [self.board[0][1] == \"X\"] if self.board[0][1] == self.board[1][1] and self.board[0][1] == self.board[2][1] and self.board[0][1] != \" \" else []\n",
    "        winners += [self.board[0][2] == \"X\"] if self.board[0][2] == self.board[1][2] and self.board[0][2] == self.board[2][2] and self.board[0][2] != \" \" else []\n",
    "        # check diagonal\n",
    "        winners += [self.board[0][0] == \"X\"] if self.board[0][0] == self.board[1][1] and self.board[0][0] == self.board[2][2] and self.board[0][0] != \" \" else []\n",
    "        winners += [self.board[0][2] == \"X\"] if self.board[0][2] == self.board[1][1] and self.board[0][2] == self.board[2][0] and self.board[0][2] != \" \" else []\n",
    "        # check draw\n",
    "        if len(winners) == 0 and not any(\" \" in space for space in self.board):\n",
    "            winners = [player == \"X\" for player in self.players]\n",
    "        return winners"
   ]
  },
  {
   "cell_type": "code",
   "execution_count": 2,
   "metadata": {},
   "outputs": [],
   "source": [
    "game = TicTacToe()"
   ]
  },
  {
   "cell_type": "markdown",
   "metadata": {},
   "source": [
    "## Step 2\n",
    "Train MCTS. You can choose whether to allow transpositions or not."
   ]
  },
  {
   "cell_type": "code",
   "execution_count": 3,
   "metadata": {},
   "outputs": [
    {
     "data": {
      "application/vnd.jupyter.widget-view+json": {
       "model_id": "5c0bd0536b5645caa2ddefb56f885ad7",
       "version_major": 2,
       "version_minor": 0
      },
      "text/plain": [
       "Training:   0%|          | 0/10000 [00:00<?, ?it/s]"
      ]
     },
     "metadata": {},
     "output_type": "display_data"
    }
   ],
   "source": [
    "tree = UCT(game, allow_transpositions = True, training = True)\n",
    "tree.self_play(iterations = 10000)"
   ]
  },
  {
   "cell_type": "markdown",
   "metadata": {},
   "source": [
    "## Step 3\n",
    "Test MCTS via self-play."
   ]
  },
  {
   "cell_type": "code",
   "execution_count": 4,
   "metadata": {
    "scrolled": true
   },
   "outputs": [
    {
     "data": {
      "application/vnd.jupyter.widget-view+json": {
       "model_id": "b1f7173d976c498b9947ce07601ec44c",
       "version_major": 2,
       "version_minor": 0
      },
      "text/plain": [
       "Evaluating:   0%|          | 0/1 [00:00<?, ?it/s]"
      ]
     },
     "metadata": {},
     "output_type": "display_data"
    },
    {
     "name": "stdout",
     "output_type": "stream",
     "text": [
      " | | \n",
      "-----\n",
      " | | \n",
      "-----\n",
      " | | \n",
      "\n",
      " | | \n",
      "-----\n",
      " |X| \n",
      "-----\n",
      " | | \n",
      "\n",
      "O| | \n",
      "-----\n",
      " |X| \n",
      "-----\n",
      " | | \n",
      "\n",
      "O| | \n",
      "-----\n",
      "X|X| \n",
      "-----\n",
      " | | \n",
      "\n",
      "O| | \n",
      "-----\n",
      "X|X|O\n",
      "-----\n",
      " | | \n",
      "\n",
      "O| |X\n",
      "-----\n",
      "X|X|O\n",
      "-----\n",
      " | | \n",
      "\n",
      "O| |X\n",
      "-----\n",
      "X|X|O\n",
      "-----\n",
      "O| | \n",
      "\n",
      "O|X|X\n",
      "-----\n",
      "X|X|O\n",
      "-----\n",
      "O| | \n",
      "\n",
      "O|X|X\n",
      "-----\n",
      "X|X|O\n",
      "-----\n",
      "O|O| \n",
      "\n",
      "O|X|X\n",
      "-----\n",
      "X|X|O\n",
      "-----\n",
      "O|O|X\n",
      "\n"
     ]
    }
   ],
   "source": [
    "tree.training = False\n",
    "tree.self_play()"
   ]
  },
  {
   "cell_type": "markdown",
   "metadata": {},
   "source": [
    "## Step 4 (Optional)\n",
    "Export MCTS if you want to save the tree via `save()` and import MCTS if you want to retrieve previously trained tree via `load()`."
   ]
  },
  {
   "cell_type": "code",
   "execution_count": 5,
   "metadata": {},
   "outputs": [],
   "source": [
    "tree.save(\"tictactoe.mcts\")"
   ]
  },
  {
   "cell_type": "markdown",
   "metadata": {},
   "source": [
    "## Step 5 (Optional)\n",
    "Try to play against the MCTS and see who will emerge victorious."
   ]
  },
  {
   "cell_type": "code",
   "execution_count": 6,
   "metadata": {
    "scrolled": true
   },
   "outputs": [
    {
     "name": "stdout",
     "output_type": "stream",
     "text": [
      " | | \n",
      "-----\n",
      " | | \n",
      "-----\n",
      " | | \n",
      "\n",
      "Possible actions: [0, 1, 2, 3, 4, 5, 6, 7, 8]\n",
      "> 4\n",
      " | | \n",
      "-----\n",
      " |X| \n",
      "-----\n",
      " | | \n",
      "\n",
      "O| | \n",
      "-----\n",
      " |X| \n",
      "-----\n",
      " | | \n",
      "\n",
      "Possible actions: [1, 2, 3, 5, 6, 7, 8]\n",
      "> 2\n",
      "O| |X\n",
      "-----\n",
      " |X| \n",
      "-----\n",
      " | | \n",
      "\n",
      "O| |X\n",
      "-----\n",
      " |X| \n",
      "-----\n",
      "O| | \n",
      "\n",
      "Possible actions: [1, 3, 5, 7, 8]\n",
      "> 3\n",
      "O| |X\n",
      "-----\n",
      "X|X| \n",
      "-----\n",
      "O| | \n",
      "\n",
      "O| |X\n",
      "-----\n",
      "X|X|O\n",
      "-----\n",
      "O| | \n",
      "\n",
      "Possible actions: [1, 7, 8]\n",
      "> 1\n",
      "O|X|X\n",
      "-----\n",
      "X|X|O\n",
      "-----\n",
      "O| | \n",
      "\n",
      "O|X|X\n",
      "-----\n",
      "X|X|O\n",
      "-----\n",
      "O|O| \n",
      "\n",
      "Possible actions: [8]\n",
      "> 8\n",
      "O|X|X\n",
      "-----\n",
      "X|X|O\n",
      "-----\n",
      "O|O|X\n",
      "\n"
     ]
    }
   ],
   "source": [
    "import random\n",
    "from copy import deepcopy\n",
    "\n",
    "human_player = 1 # X\n",
    "\n",
    "game = TicTacToe()\n",
    "tree = MCTS(game, allow_transpositions = True, training = False)\n",
    "tree.load(\"tictactoe.mcts\")\n",
    "\n",
    "node = tree.root\n",
    "while not game.has_outcome():\n",
    "    game.render()\n",
    "    actions = game.possible_actions()\n",
    "    if game.current_player() == human_player:\n",
    "        print(\"Possible actions:\", actions)\n",
    "        action = int(input(\"> \"))\n",
    "        assert action in actions\n",
    "        if node is not None:\n",
    "            node = node.children[action] if action in node.children else None\n",
    "    else:\n",
    "        if node is not None and len(node.children) > 0:\n",
    "            action = node.choose_best_action(tree.training)\n",
    "            node = node.children[action]\n",
    "        else:\n",
    "            action = random.choice(actions)\n",
    "            node = None\n",
    "    game.take_action(action)\n",
    "game.render()"
   ]
  }
 ],
 "metadata": {
  "kernelspec": {
   "display_name": "Python 3",
   "language": "python",
   "name": "python3"
  },
  "language_info": {
   "codemirror_mode": {
    "name": "ipython",
    "version": 3
   },
   "file_extension": ".py",
   "mimetype": "text/x-python",
   "name": "python",
   "nbconvert_exporter": "python",
   "pygments_lexer": "ipython3",
   "version": "3.7.6"
  },
  "widgets": {
   "application/vnd.jupyter.widget-state+json": {
    "state": {
     "01ff563ce91c4823a412ab74dc2207ff": {
      "model_module": "@jupyter-widgets/controls",
      "model_module_version": "1.5.0",
      "model_name": "DescriptionStyleModel",
      "state": {
       "description_width": ""
      }
     },
     "0ac6b33cc57f4a9abca99a623da57e5b": {
      "model_module": "@jupyter-widgets/base",
      "model_module_version": "1.2.0",
      "model_name": "LayoutModel",
      "state": {}
     },
     "0ccf119586f349908f78d96061b2b626": {
      "model_module": "@jupyter-widgets/controls",
      "model_module_version": "1.5.0",
      "model_name": "HTMLModel",
      "state": {
       "layout": "IPY_MODEL_93470b96e3684a859dfb9be5764c31ce",
       "style": "IPY_MODEL_af57fa4741b947d1835aef60ac8a2c65",
       "value": "Evaluating: 100%"
      }
     },
     "0e8b8a9eaa254129bca222b2608c4b09": {
      "model_module": "@jupyter-widgets/controls",
      "model_module_version": "1.5.0",
      "model_name": "ProgressStyleModel",
      "state": {
       "description_width": ""
      }
     },
     "2b544228ae444f1b821f6e9e52263e0f": {
      "model_module": "@jupyter-widgets/base",
      "model_module_version": "1.2.0",
      "model_name": "LayoutModel",
      "state": {}
     },
     "2d99751efa544263bc55f29f6ffd6747": {
      "model_module": "@jupyter-widgets/controls",
      "model_module_version": "1.5.0",
      "model_name": "HTMLModel",
      "state": {
       "layout": "IPY_MODEL_443449ea02b84a98b1d29a76d9294b4a",
       "style": "IPY_MODEL_01ff563ce91c4823a412ab74dc2207ff",
       "value": " 1/1 [00:00&lt;00:00, 11.44it/s]"
      }
     },
     "2ebe4ba4141d493db20592b9bf7af156": {
      "model_module": "@jupyter-widgets/base",
      "model_module_version": "1.2.0",
      "model_name": "LayoutModel",
      "state": {}
     },
     "32f86aed6fd444dfa0ff72fbf4a2d7d1": {
      "model_module": "@jupyter-widgets/controls",
      "model_module_version": "1.5.0",
      "model_name": "HTMLModel",
      "state": {
       "layout": "IPY_MODEL_e0b06c76ec89440e9a4d8da7cb1a8f4f",
       "style": "IPY_MODEL_d0429a0498464a42b046e7dc4ba9d807",
       "value": " 1280/10000 [00:39&lt;04:16, 33.98it/s]"
      }
     },
     "37d1bcf18b164913b083389df19ee2b9": {
      "model_module": "@jupyter-widgets/controls",
      "model_module_version": "1.5.0",
      "model_name": "HBoxModel",
      "state": {
       "children": [
        "IPY_MODEL_beaa53e3a318409eb62cd4753faca05e",
        "IPY_MODEL_aa83e77b265d4917b54205a0ddb95ca5",
        "IPY_MODEL_32f86aed6fd444dfa0ff72fbf4a2d7d1"
       ],
       "layout": "IPY_MODEL_487eb9c86c7048ed97005463e27f285c"
      }
     },
     "39d78a42715d4ce7ac3e51e2440b446c": {
      "model_module": "@jupyter-widgets/controls",
      "model_module_version": "1.5.0",
      "model_name": "FloatProgressModel",
      "state": {
       "bar_style": "success",
       "layout": "IPY_MODEL_c6cc72f2c2c847368caf1187dc612464",
       "max": 10000,
       "style": "IPY_MODEL_efeb98aa2619456eb29df72e59dc2e13",
       "value": 10000
      }
     },
     "3d47131c53a1488b86b8449878d1af67": {
      "model_module": "@jupyter-widgets/controls",
      "model_module_version": "1.5.0",
      "model_name": "HBoxModel",
      "state": {
       "children": [
        "IPY_MODEL_0ccf119586f349908f78d96061b2b626",
        "IPY_MODEL_74dfdb6a8438458cba86dc54b6196d9f",
        "IPY_MODEL_451c6de06a044d72b95c602b771b259d"
       ],
       "layout": "IPY_MODEL_4853c63d60994d37977cc4abfe86e27c"
      }
     },
     "443449ea02b84a98b1d29a76d9294b4a": {
      "model_module": "@jupyter-widgets/base",
      "model_module_version": "1.2.0",
      "model_name": "LayoutModel",
      "state": {}
     },
     "451c6de06a044d72b95c602b771b259d": {
      "model_module": "@jupyter-widgets/controls",
      "model_module_version": "1.5.0",
      "model_name": "HTMLModel",
      "state": {
       "layout": "IPY_MODEL_8640487ed2b24e4d944e6438d35cffad",
       "style": "IPY_MODEL_c49cbb4cc21943c6be10c5409471ae64",
       "value": " 1/1 [00:00&lt;00:00,  9.53it/s]"
      }
     },
     "476d253faf3c40d18cf644acea49d15b": {
      "model_module": "@jupyter-widgets/controls",
      "model_module_version": "1.5.0",
      "model_name": "HTMLModel",
      "state": {
       "layout": "IPY_MODEL_b1ec1fed99ac4160811456ed14dbae6a",
       "style": "IPY_MODEL_a209b104eba443eca0c4db39915034a0",
       "value": " 10000/10000 [05:23&lt;00:00, 33.35it/s]"
      }
     },
     "48233177d224445885bc545329a2d43d": {
      "model_module": "@jupyter-widgets/controls",
      "model_module_version": "1.5.0",
      "model_name": "FloatProgressModel",
      "state": {
       "bar_style": "success",
       "layout": "IPY_MODEL_afbf2af9f7824b39aeaa8680a64d0f16",
       "max": 1,
       "style": "IPY_MODEL_0e8b8a9eaa254129bca222b2608c4b09",
       "value": 1
      }
     },
     "4853c63d60994d37977cc4abfe86e27c": {
      "model_module": "@jupyter-widgets/base",
      "model_module_version": "1.2.0",
      "model_name": "LayoutModel",
      "state": {}
     },
     "487eb9c86c7048ed97005463e27f285c": {
      "model_module": "@jupyter-widgets/base",
      "model_module_version": "1.2.0",
      "model_name": "LayoutModel",
      "state": {}
     },
     "6081dfb56cd34f69aadee2d0269f0e7f": {
      "model_module": "@jupyter-widgets/base",
      "model_module_version": "1.2.0",
      "model_name": "LayoutModel",
      "state": {}
     },
     "62004bc760c34063af491f3cb36674d2": {
      "model_module": "@jupyter-widgets/controls",
      "model_module_version": "1.5.0",
      "model_name": "HTMLModel",
      "state": {
       "layout": "IPY_MODEL_0ac6b33cc57f4a9abca99a623da57e5b",
       "style": "IPY_MODEL_8ab6676f91694a45b16603297cb5de39",
       "value": "Training: 100%"
      }
     },
     "6f1213c920954753a4fd2102711c59fd": {
      "model_module": "@jupyter-widgets/controls",
      "model_module_version": "1.5.0",
      "model_name": "ProgressStyleModel",
      "state": {
       "description_width": ""
      }
     },
     "74dfdb6a8438458cba86dc54b6196d9f": {
      "model_module": "@jupyter-widgets/controls",
      "model_module_version": "1.5.0",
      "model_name": "FloatProgressModel",
      "state": {
       "bar_style": "success",
       "layout": "IPY_MODEL_2ebe4ba4141d493db20592b9bf7af156",
       "max": 1,
       "style": "IPY_MODEL_c23d94a4cb57402ca96791b764146c02",
       "value": 1
      }
     },
     "767ff465a8864f7d9dd6ce08983076f3": {
      "model_module": "@jupyter-widgets/controls",
      "model_module_version": "1.5.0",
      "model_name": "HTMLModel",
      "state": {
       "layout": "IPY_MODEL_b0e5867062174294848cee94f42e7886",
       "style": "IPY_MODEL_eaf1f96390a44bee868e6788d69b68a1",
       "value": " 10000/10000 [04:58&lt;00:00, 32.95it/s]"
      }
     },
     "797aef6dd0c341369b5494ee82cdfb05": {
      "model_module": "@jupyter-widgets/base",
      "model_module_version": "1.2.0",
      "model_name": "LayoutModel",
      "state": {}
     },
     "815e2a9ed19c4bcab531ff2f52c96af9": {
      "model_module": "@jupyter-widgets/controls",
      "model_module_version": "1.5.0",
      "model_name": "HTMLModel",
      "state": {
       "layout": "IPY_MODEL_f8ef00c3825b4980a4a045dc8c381c20",
       "style": "IPY_MODEL_c97b7207e20e486e90debe61f01a2b34",
       "value": "Training: 100%"
      }
     },
     "8640487ed2b24e4d944e6438d35cffad": {
      "model_module": "@jupyter-widgets/base",
      "model_module_version": "1.2.0",
      "model_name": "LayoutModel",
      "state": {}
     },
     "8ab6676f91694a45b16603297cb5de39": {
      "model_module": "@jupyter-widgets/controls",
      "model_module_version": "1.5.0",
      "model_name": "DescriptionStyleModel",
      "state": {
       "description_width": ""
      }
     },
     "8cf77297a9314571a07095ef64dd118a": {
      "model_module": "@jupyter-widgets/controls",
      "model_module_version": "1.5.0",
      "model_name": "HBoxModel",
      "state": {
       "children": [
        "IPY_MODEL_e9fb2f19d6a344eda761700e9f9022d3",
        "IPY_MODEL_48233177d224445885bc545329a2d43d",
        "IPY_MODEL_2d99751efa544263bc55f29f6ffd6747"
       ],
       "layout": "IPY_MODEL_ecb47db7318c47beaaeacc46bf68d24d"
      }
     },
     "8f2366a7cbe74a6ba657deff9a3b6566": {
      "model_module": "@jupyter-widgets/base",
      "model_module_version": "1.2.0",
      "model_name": "LayoutModel",
      "state": {}
     },
     "93470b96e3684a859dfb9be5764c31ce": {
      "model_module": "@jupyter-widgets/base",
      "model_module_version": "1.2.0",
      "model_name": "LayoutModel",
      "state": {}
     },
     "9725d86adef3454b9577160cc1f3627d": {
      "model_module": "@jupyter-widgets/base",
      "model_module_version": "1.2.0",
      "model_name": "LayoutModel",
      "state": {}
     },
     "9e2196b27ca54f31bfead3e0f759368c": {
      "model_module": "@jupyter-widgets/controls",
      "model_module_version": "1.5.0",
      "model_name": "DescriptionStyleModel",
      "state": {
       "description_width": ""
      }
     },
     "a209b104eba443eca0c4db39915034a0": {
      "model_module": "@jupyter-widgets/controls",
      "model_module_version": "1.5.0",
      "model_name": "DescriptionStyleModel",
      "state": {
       "description_width": ""
      }
     },
     "aa6c6d7bead14affa18e3cb020fbb382": {
      "model_module": "@jupyter-widgets/controls",
      "model_module_version": "1.5.0",
      "model_name": "HBoxModel",
      "state": {
       "children": [
        "IPY_MODEL_815e2a9ed19c4bcab531ff2f52c96af9",
        "IPY_MODEL_d18a9b4ff2074c7998d7c22b720c4fed",
        "IPY_MODEL_476d253faf3c40d18cf644acea49d15b"
       ],
       "layout": "IPY_MODEL_9725d86adef3454b9577160cc1f3627d"
      }
     },
     "aa83e77b265d4917b54205a0ddb95ca5": {
      "model_module": "@jupyter-widgets/controls",
      "model_module_version": "1.5.0",
      "model_name": "FloatProgressModel",
      "state": {
       "bar_style": "danger",
       "layout": "IPY_MODEL_8f2366a7cbe74a6ba657deff9a3b6566",
       "max": 10000,
       "style": "IPY_MODEL_6f1213c920954753a4fd2102711c59fd",
       "value": 1280
      }
     },
     "af57fa4741b947d1835aef60ac8a2c65": {
      "model_module": "@jupyter-widgets/controls",
      "model_module_version": "1.5.0",
      "model_name": "DescriptionStyleModel",
      "state": {
       "description_width": ""
      }
     },
     "afbf2af9f7824b39aeaa8680a64d0f16": {
      "model_module": "@jupyter-widgets/base",
      "model_module_version": "1.2.0",
      "model_name": "LayoutModel",
      "state": {}
     },
     "b0e5867062174294848cee94f42e7886": {
      "model_module": "@jupyter-widgets/base",
      "model_module_version": "1.2.0",
      "model_name": "LayoutModel",
      "state": {}
     },
     "b1ec1fed99ac4160811456ed14dbae6a": {
      "model_module": "@jupyter-widgets/base",
      "model_module_version": "1.2.0",
      "model_name": "LayoutModel",
      "state": {}
     },
     "b583408b70b74ca5b9c092301b70c0da": {
      "model_module": "@jupyter-widgets/controls",
      "model_module_version": "1.5.0",
      "model_name": "ProgressStyleModel",
      "state": {
       "description_width": ""
      }
     },
     "beaa53e3a318409eb62cd4753faca05e": {
      "model_module": "@jupyter-widgets/controls",
      "model_module_version": "1.5.0",
      "model_name": "HTMLModel",
      "state": {
       "layout": "IPY_MODEL_797aef6dd0c341369b5494ee82cdfb05",
       "style": "IPY_MODEL_9e2196b27ca54f31bfead3e0f759368c",
       "value": "Training:  13%"
      }
     },
     "c23d94a4cb57402ca96791b764146c02": {
      "model_module": "@jupyter-widgets/controls",
      "model_module_version": "1.5.0",
      "model_name": "ProgressStyleModel",
      "state": {
       "description_width": ""
      }
     },
     "c25d832c11fc4738868eaf40edce6500": {
      "model_module": "@jupyter-widgets/controls",
      "model_module_version": "1.5.0",
      "model_name": "DescriptionStyleModel",
      "state": {
       "description_width": ""
      }
     },
     "c49cbb4cc21943c6be10c5409471ae64": {
      "model_module": "@jupyter-widgets/controls",
      "model_module_version": "1.5.0",
      "model_name": "DescriptionStyleModel",
      "state": {
       "description_width": ""
      }
     },
     "c6cc72f2c2c847368caf1187dc612464": {
      "model_module": "@jupyter-widgets/base",
      "model_module_version": "1.2.0",
      "model_name": "LayoutModel",
      "state": {}
     },
     "c97b7207e20e486e90debe61f01a2b34": {
      "model_module": "@jupyter-widgets/controls",
      "model_module_version": "1.5.0",
      "model_name": "DescriptionStyleModel",
      "state": {
       "description_width": ""
      }
     },
     "d0429a0498464a42b046e7dc4ba9d807": {
      "model_module": "@jupyter-widgets/controls",
      "model_module_version": "1.5.0",
      "model_name": "DescriptionStyleModel",
      "state": {
       "description_width": ""
      }
     },
     "d18a9b4ff2074c7998d7c22b720c4fed": {
      "model_module": "@jupyter-widgets/controls",
      "model_module_version": "1.5.0",
      "model_name": "FloatProgressModel",
      "state": {
       "bar_style": "success",
       "layout": "IPY_MODEL_2b544228ae444f1b821f6e9e52263e0f",
       "max": 10000,
       "style": "IPY_MODEL_b583408b70b74ca5b9c092301b70c0da",
       "value": 10000
      }
     },
     "d8e5fc4324214c6bafab38d3899cb590": {
      "model_module": "@jupyter-widgets/base",
      "model_module_version": "1.2.0",
      "model_name": "LayoutModel",
      "state": {}
     },
     "e0b06c76ec89440e9a4d8da7cb1a8f4f": {
      "model_module": "@jupyter-widgets/base",
      "model_module_version": "1.2.0",
      "model_name": "LayoutModel",
      "state": {}
     },
     "e6ca715b582e453182b3af55373a29d4": {
      "model_module": "@jupyter-widgets/controls",
      "model_module_version": "1.5.0",
      "model_name": "HBoxModel",
      "state": {
       "children": [
        "IPY_MODEL_62004bc760c34063af491f3cb36674d2",
        "IPY_MODEL_39d78a42715d4ce7ac3e51e2440b446c",
        "IPY_MODEL_767ff465a8864f7d9dd6ce08983076f3"
       ],
       "layout": "IPY_MODEL_d8e5fc4324214c6bafab38d3899cb590"
      }
     },
     "e9fb2f19d6a344eda761700e9f9022d3": {
      "model_module": "@jupyter-widgets/controls",
      "model_module_version": "1.5.0",
      "model_name": "HTMLModel",
      "state": {
       "layout": "IPY_MODEL_6081dfb56cd34f69aadee2d0269f0e7f",
       "style": "IPY_MODEL_c25d832c11fc4738868eaf40edce6500",
       "value": "Evaluating: 100%"
      }
     },
     "eaf1f96390a44bee868e6788d69b68a1": {
      "model_module": "@jupyter-widgets/controls",
      "model_module_version": "1.5.0",
      "model_name": "DescriptionStyleModel",
      "state": {
       "description_width": ""
      }
     },
     "ecb47db7318c47beaaeacc46bf68d24d": {
      "model_module": "@jupyter-widgets/base",
      "model_module_version": "1.2.0",
      "model_name": "LayoutModel",
      "state": {}
     },
     "efeb98aa2619456eb29df72e59dc2e13": {
      "model_module": "@jupyter-widgets/controls",
      "model_module_version": "1.5.0",
      "model_name": "ProgressStyleModel",
      "state": {
       "description_width": ""
      }
     },
     "f8ef00c3825b4980a4a045dc8c381c20": {
      "model_module": "@jupyter-widgets/base",
      "model_module_version": "1.2.0",
      "model_name": "LayoutModel",
      "state": {}
     }
    },
    "version_major": 2,
    "version_minor": 0
   }
  }
 },
 "nbformat": 4,
 "nbformat_minor": 4
}
