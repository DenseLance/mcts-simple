{
 "cells": [
  {
   "cell_type": "code",
   "execution_count": 1,
   "metadata": {},
   "outputs": [],
   "source": [
    "import gym\n",
    "from mcts_simple import Game\n",
    "from copy import deepcopy\n",
    "\n",
    "# For rendering\n",
    "import imageio\n",
    "import base64\n",
    "import IPython\n",
    "\n",
    "class CartPole(Game):\n",
    "    def __init__(self, video = \"cartpole.mp4\", seed = 0):\n",
    "        # mcts-simple at this point in time does not accept seedless value\n",
    "        # However, you can always keep exporting and importing mcts for each CartPole with different seeds (only can be used for closed loop MCTS)\n",
    "        self.prev_env = None\n",
    "        self.env = gym.make(\"CartPole-v0\")\n",
    "        self.env.seed(0)\n",
    "        self.states = [self.env.reset()]\n",
    "        \n",
    "        self.video = video\n",
    "        self.frames = []\n",
    "        \n",
    "        self.done = False\n",
    "        self.win = False\n",
    "\n",
    "    def render(self):\n",
    "        # Don't worry about the pop up windows, it's a feature not a bug.\n",
    "        # Environment has to be deepcopied such that the following error will not be raised:\n",
    "        # ValueError: ctypes objects containing pointers cannot be pickled\n",
    "        # If you find a better solution, do contribute to the repository.\n",
    "        env = deepcopy(self.env)\n",
    "        self.frames.append(env.render(mode = \"rgb_array\"))\n",
    "        env.close()\n",
    "        del env\n",
    "        \n",
    "        if self.has_outcome():\n",
    "            imageio.mimwrite(self.video, self.frames, \"MP4\", fps = 10, **{\"macro_block_size\": None})\n",
    "            with open(self.video, \"rb\") as f: # base64 encoding to support linux systems\n",
    "                video = f.read()\n",
    "                b64_video = base64.b64encode(video)\n",
    "                f.close()\n",
    "            IPython.display.display(IPython.display.HTML(data = f\"\"\"\n",
    "            <video controls src = \"data:video/mp4;base64,{b64_video.decode()}\"></video>\n",
    "            \"\"\"))\n",
    "\n",
    "    def get_state(self):\n",
    "        # I really want to do rounding to discretise such continuous state space,\n",
    "        # but rounding leads to state space inconsistency which was a pain to deal with since I did not know how to fix it.\n",
    "        # If you know how to, please contribute to the repository.\n",
    "        # Note that rounding still works for MCTS but not for UCT.\n",
    "        # It could also be due to my Jupyter notebook hallucinating, but we will never know unless someone else tries.\n",
    "        return tuple(self.states[-1])\n",
    "\n",
    "    def number_of_players(self):\n",
    "        return 1\n",
    "\n",
    "    def current_player(self):\n",
    "        return 1\n",
    "\n",
    "    def possible_actions(self):\n",
    "        return [i for i in range(self.env.action_space.n)] # returns list of int (doesn't have to be string since human play is illegal by default)\n",
    "\n",
    "    def take_action(self, action):\n",
    "        if action not in self.possible_actions():\n",
    "            raise RuntimeError(\"Action taken is invalid.\")\n",
    "        self.prev_env = deepcopy(self.env)\n",
    "        observation, reward, done, info = self.env.step(action)\n",
    "        self.states.append(observation)\n",
    "        if done:\n",
    "            self.done = True\n",
    "            if self.env._elapsed_steps >= self.env._max_episode_steps:\n",
    "                self.win = True\n",
    "\n",
    "    def delete_last_action(self):\n",
    "        if self.prev_env is None:\n",
    "            raise RuntimeError(\"No last action to delete.\")\n",
    "        self.env = self.prev_env\n",
    "        self.prev_env = None\n",
    "        self.states.pop()\n",
    "        self.done = False\n",
    "        self.win = False\n",
    "\n",
    "    def has_outcome(self):\n",
    "        return self.done\n",
    "\n",
    "    def winner(self):\n",
    "        if not self.has_outcome():\n",
    "            raise RuntimeError(\"winner() cannot be called when outcome is undefined.\")\n",
    "        if self.win:\n",
    "            return self.current_player()\n",
    "        else:\n",
    "            return -1"
   ]
  },
  {
   "cell_type": "code",
   "execution_count": 2,
   "metadata": {
    "scrolled": false
   },
   "outputs": [
    {
     "name": "stdout",
     "output_type": "stream",
     "text": [
      "Export trained open loop UCT\n"
     ]
    },
    {
     "data": {
      "application/vnd.jupyter.widget-view+json": {
       "model_id": "56857262f0f543c7b0c4e2934b421bd0",
       "version_major": 2,
       "version_minor": 0
      },
      "text/plain": [
       "HBox(children=(FloatProgress(value=0.0, description='Simulating', max=500000.0, style=ProgressStyle(descriptio…"
      ]
     },
     "metadata": {},
     "output_type": "display_data"
    },
    {
     "name": "stdout",
     "output_type": "stream",
     "text": [
      "\n",
      "Import trained open loop UCT\n"
     ]
    },
    {
     "data": {
      "text/html": [
       "\n",
       "            <video controls src = \"data:video/mp4;base64,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\"></video>\n",
       "            "
      ],
      "text/plain": [
       "<IPython.core.display.HTML object>"
      ]
     },
     "metadata": {},
     "output_type": "display_data"
    }
   ],
   "source": [
    "from mcts_simple import OpenLoopUCT\n",
    "\n",
    "## UCT is required for exploration ##\n",
    "## (closed loop) UCT would take a long time to be trained due to large branching factor before reaching terminal node, so it will not be used in this example ##\n",
    "\n",
    "# Export trained open loop UCT\n",
    "print(\"Export trained open loop UCT\")\n",
    "OL_uct = OpenLoopUCT(CartPole(video = \"cartpole_open_loop_UCT.mp4\", seed = 0))\n",
    "OL_uct.run(iterations = 500000)\n",
    "OL_uct._export(\"CartPole_open_loop_UCT.json\")\n",
    "\n",
    "# Import trained open loop UCT\n",
    "print(\"Import trained open loop UCT\")\n",
    "OL_uct = OpenLoopUCT(CartPole(video = \"cartpole_open_loop_UCT.mp4\", seed = 0))\n",
    "OL_uct._import(\"CartPole_open_loop_UCT.json\")\n",
    "OL_uct.self_play(activation = \"best\")"
   ]
  }
 ],
 "metadata": {
  "kernelspec": {
   "display_name": "Python 3",
   "language": "python",
   "name": "python3"
  },
  "language_info": {
   "codemirror_mode": {
    "name": "ipython",
    "version": 3
   },
   "file_extension": ".py",
   "mimetype": "text/x-python",
   "name": "python",
   "nbconvert_exporter": "python",
   "pygments_lexer": "ipython3",
   "version": "3.7.6"
  }
 },
 "nbformat": 4,
 "nbformat_minor": 4
}
